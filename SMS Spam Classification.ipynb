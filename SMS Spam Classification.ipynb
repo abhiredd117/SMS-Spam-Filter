{
 "cells": [
  {
   "cell_type": "markdown",
   "id": "077cfdd9",
   "metadata": {},
   "source": [
    "Importing necccessary Libraries:"
   ]
  },
  {
   "cell_type": "code",
   "execution_count": 1,
   "id": "10dc1b33",
   "metadata": {},
   "outputs": [],
   "source": [
    "import numpy as np\n",
    "import matplotlib.pyplot as plt\n",
    "import pandas as pd\n",
    "import string\n",
    "from collections import Counter\n",
    "import matplotlib.pyplot as plt"
   ]
  },
  {
   "cell_type": "markdown",
   "id": "c477cf08",
   "metadata": {},
   "source": [
    "Reading Data and Specifications:\n",
    "    Data: Kaggle Spam Filter "
   ]
  },
  {
   "cell_type": "markdown",
   "id": "020a56b6",
   "metadata": {},
   "source": [
    "#Storing and cleaning Data:\n",
    "Spam = pd.read_csv('spam.csv', encoding=\"ISO-8859-1\")\n",
    "Spam = Spam[['v1', 'v2']]\n",
    "Spam.rename(columns={'v1': 'spam', 'v2': 'text'}, inplace=True)\n",
    "\n",
    "#Extracting Spam Data based on True/False:\n",
    "Spam.spam = Spam.spam.apply(lambda s: True if s=='spam' else False)\n",
    "\n",
    "#Converting to LowerCase:\n",
    "Spam.text = Spam.text.apply(lambda t: t.lower().translate(str.maketrans('', '', string.punctuation)))\n",
    "\n",
    "Spam = Spam.sample(frac=1)"
   ]
  },
  {
   "cell_type": "markdown",
   "id": "78de4f76",
   "metadata": {},
   "source": [
    "Processed Dataset:"
   ]
  },
  {
   "cell_type": "code",
   "execution_count": 3,
   "id": "93a721bd",
   "metadata": {},
   "outputs": [
    {
     "data": {
      "text/html": [
       "<div>\n",
       "<style scoped>\n",
       "    .dataframe tbody tr th:only-of-type {\n",
       "        vertical-align: middle;\n",
       "    }\n",
       "\n",
       "    .dataframe tbody tr th {\n",
       "        vertical-align: top;\n",
       "    }\n",
       "\n",
       "    .dataframe thead th {\n",
       "        text-align: right;\n",
       "    }\n",
       "</style>\n",
       "<table border=\"1\" class=\"dataframe\">\n",
       "  <thead>\n",
       "    <tr style=\"text-align: right;\">\n",
       "      <th></th>\n",
       "      <th>spam</th>\n",
       "      <th>text</th>\n",
       "    </tr>\n",
       "  </thead>\n",
       "  <tbody>\n",
       "    <tr>\n",
       "      <th>763</th>\n",
       "      <td>False</td>\n",
       "      <td>nothing but we jus tot u would ask cos u ba gu...</td>\n",
       "    </tr>\n",
       "    <tr>\n",
       "      <th>1279</th>\n",
       "      <td>False</td>\n",
       "      <td>waiting 4 my tv show 2 start lor u leh still b...</td>\n",
       "    </tr>\n",
       "    <tr>\n",
       "      <th>3165</th>\n",
       "      <td>True</td>\n",
       "      <td>hot live fantasies call now 08707509020 just 2...</td>\n",
       "    </tr>\n",
       "    <tr>\n",
       "      <th>2532</th>\n",
       "      <td>False</td>\n",
       "      <td>yup ok</td>\n",
       "    </tr>\n",
       "    <tr>\n",
       "      <th>3567</th>\n",
       "      <td>False</td>\n",
       "      <td>sent me de webadres for geting salary slip</td>\n",
       "    </tr>\n",
       "    <tr>\n",
       "      <th>...</th>\n",
       "      <td>...</td>\n",
       "      <td>...</td>\n",
       "    </tr>\n",
       "    <tr>\n",
       "      <th>4170</th>\n",
       "      <td>False</td>\n",
       "      <td>pls whats the full name of jokes school cos fe...</td>\n",
       "    </tr>\n",
       "    <tr>\n",
       "      <th>33</th>\n",
       "      <td>False</td>\n",
       "      <td>for fear of fainting with the of all that hous...</td>\n",
       "    </tr>\n",
       "    <tr>\n",
       "      <th>2577</th>\n",
       "      <td>False</td>\n",
       "      <td>hey whats up u sleeping all morning</td>\n",
       "    </tr>\n",
       "    <tr>\n",
       "      <th>4730</th>\n",
       "      <td>False</td>\n",
       "      <td>keng rocking in ashes</td>\n",
       "    </tr>\n",
       "    <tr>\n",
       "      <th>2214</th>\n",
       "      <td>False</td>\n",
       "      <td>ok then ill let him noe later n ask him call u...</td>\n",
       "    </tr>\n",
       "  </tbody>\n",
       "</table>\n",
       "<p>5572 rows × 2 columns</p>\n",
       "</div>"
      ],
      "text/plain": [
       "       spam                                               text\n",
       "763   False  nothing but we jus tot u would ask cos u ba gu...\n",
       "1279  False  waiting 4 my tv show 2 start lor u leh still b...\n",
       "3165   True  hot live fantasies call now 08707509020 just 2...\n",
       "2532  False                                             yup ok\n",
       "3567  False         sent me de webadres for geting salary slip\n",
       "...     ...                                                ...\n",
       "4170  False  pls whats the full name of jokes school cos fe...\n",
       "33    False  for fear of fainting with the of all that hous...\n",
       "2577  False                hey whats up u sleeping all morning\n",
       "4730  False                              keng rocking in ashes\n",
       "2214  False  ok then ill let him noe later n ask him call u...\n",
       "\n",
       "[5572 rows x 2 columns]"
      ]
     },
     "execution_count": 3,
     "metadata": {},
     "output_type": "execute_result"
    }
   ],
   "source": [
    "Spam"
   ]
  },
  {
   "cell_type": "markdown",
   "id": "1a6d9a68",
   "metadata": {},
   "source": [
    "Text Data:"
   ]
  },
  {
   "cell_type": "code",
   "execution_count": null,
   "id": "8e142603",
   "metadata": {},
   "outputs": [],
   "source": []
  },
  {
   "cell_type": "raw",
   "id": "af466b7b",
   "metadata": {},
   "source": [
    "Training and Testing Set"
   ]
  },
  {
   "cell_type": "code",
   "execution_count": 16,
   "id": "7c18c336",
   "metadata": {},
   "outputs": [],
   "source": [
    "#get training set\n",
    "train_df = Spam.iloc[:int(len(Spam)*0.7)]\n",
    "\n",
    "#get testing set\n",
    "test_df = Spam.iloc[int(len(Spam)*0.7):]"
   ]
  },
  {
   "cell_type": "code",
   "execution_count": null,
   "id": "e639b0cf",
   "metadata": {},
   "outputs": [],
   "source": []
  },
  {
   "cell_type": "code",
   "execution_count": 6,
   "id": "563d7a1c",
   "metadata": {},
   "outputs": [
    {
     "name": "stdout",
     "output_type": "stream",
     "text": [
      "0.13435897435897437\n"
     ]
    }
   ],
   "source": [
    "FRAC_SPAM_TEXTS = train_df.spam.mean()\n",
    "print(FRAC_SPAM_TEXTS)"
   ]
  },
  {
   "cell_type": "code",
   "execution_count": 17,
   "id": "f0159944",
   "metadata": {},
   "outputs": [],
   "source": [
    "train_spam_words = ' '.join(train_df[train_df.spam == True].text).split(' ')\n",
    "train_non_spam_words = ' '.join(train_df[train_df.spam == False].text).split(' ')\n",
    "\n",
    "common_words = set(train_spam_words).intersection(set(train_non_spam_words))"
   ]
  },
  {
   "cell_type": "code",
   "execution_count": 18,
   "id": "9508d9c4",
   "metadata": {},
   "outputs": [],
   "source": [
    "train_spam_bow = dict()\n",
    "for w in common_words:\n",
    "    train_spam_bow[w] = train_spam_words.count(w) / len(train_spam_words)"
   ]
  },
  {
   "cell_type": "code",
   "execution_count": 19,
   "id": "a0009d0d",
   "metadata": {},
   "outputs": [],
   "source": [
    "train_non_spam_bow = dict()\n",
    "for w in common_words:\n",
    "    train_non_spam_bow[w] = train_non_spam_words.count(w) / len(train_non_spam_words)"
   ]
  },
  {
   "cell_type": "code",
   "execution_count": 10,
   "id": "012c7275",
   "metadata": {},
   "outputs": [],
   "source": [
    "def predict_test(t, verbose=False):\n",
    "    \n",
    "    valid_words = [w for w in t if w in train_spam_bow]\n",
    "    spam_probs = [train_spam_bow[w] for w in valid_words]\n",
    "    non_spam_probs = [train_non_spam_bow[w] for w in valid_words]\n",
    "    if verbose:\n",
    "        data_df = pd.DataFrame()\n",
    "        data_df['word'] = valid_words\n",
    "        data_df['spam_prob'] = spam_probs\n",
    "        data_df['non_spam_prob'] = non_spam_probs\n",
    "        data_df['ratio'] = [s/n if n > 0 else np.inf for s,n in zip(spam_probs, non_spam_probs)]\n",
    "        print(data_df)\n",
    "    spam_score = sum([np.log(p) for p in spam_probs]) + np.log(FRAC_SPAM_TEXTS)\n",
    "    \n",
    "    non_spam_score = sum([np.log(p) for p in non_spam_probs]) + np.log(1-FRAC_SPAM_TEXTS)\n",
    "    if verbose:\n",
    "        print('Spam Score: %s'%spam_score)\n",
    "        print('Non-Spam Score: %s'%non_spam_score)\n",
    "    return (spam_score >= non_spam_score)"
   ]
  },
  {
   "cell_type": "code",
   "execution_count": 11,
   "id": "1936ea95",
   "metadata": {},
   "outputs": [
    {
     "data": {
      "text/plain": [
       "spam    0\n",
       "text    0\n",
       "dtype: int64"
      ]
     },
     "execution_count": 11,
     "metadata": {},
     "output_type": "execute_result"
    }
   ],
   "source": [
    "Spam.isnull().sum()"
   ]
  },
  {
   "cell_type": "code",
   "execution_count": 12,
   "id": "929ac20d",
   "metadata": {},
   "outputs": [
    {
     "data": {
      "text/plain": [
       "(5572, 2)"
      ]
     },
     "execution_count": 12,
     "metadata": {},
     "output_type": "execute_result"
    }
   ],
   "source": [
    "Spam.shape"
   ]
  },
  {
   "cell_type": "code",
   "execution_count": 13,
   "id": "99f420a1",
   "metadata": {},
   "outputs": [
    {
     "data": {
      "image/png": "[encoded data removed]",
      "text/plain": [
       "<Figure size 720x576 with 1 Axes>"
      ]
     },
     "metadata": {},
     "output_type": "display_data"
    }
   ],
   "source": [
    "plt.figure(figsize=(10,8))\n",
    "plt.pie(Spam['spam'].value_counts(), labels=['HAM','SPAM'], autopct='%1.1f%%', colors = ['turquoise','#ff8975'], startangle=90, explode = (0, 0.1))\n",
    "plt.show()"
   ]
  },
  {
   "cell_type": "code",
   "execution_count": 14,
   "id": "6183523e",
   "metadata": {},
   "outputs": [
    {
     "data": {
      "text/plain": [
       "False    4825\n",
       "True      747\n",
       "Name: spam, dtype: int64"
      ]
     },
     "execution_count": 14,
     "metadata": {},
     "output_type": "execute_result"
    }
   ],
   "source": [
    "Spam['spam'].value_counts()"
   ]
  },
  {
   "cell_type": "code",
   "execution_count": 20,
   "id": "86e99cf7",
   "metadata": {},
   "outputs": [
    {
     "data": {
      "image/png": "[encoded data removed]",
      "text/plain": [
       "<Figure size 432x288 with 1 Axes>"
      ]
     },
     "metadata": {
      "needs_background": "light"
     },
     "output_type": "display_data"
    }
   ],
   "source": [
    "count_Class= Spam.value_counts(Spam[\"spam\"], sort= True)\n",
    "count_Class.plot(kind= 'bar', color= [\"blue\", \"orange\"])\n",
    "plt.title('Bar chart')\n",
    "plt.show()"
   ]
  },
  {
   "cell_type": "code",
   "execution_count": 21,
   "id": "38507be7",
   "metadata": {},
   "outputs": [
    {
     "name": "stdout",
     "output_type": "stream",
     "text": [
      "     word  spam_prob  non_spam_prob       ratio\n",
      "0  urgent   0.003727       0.000021  181.653584\n",
      "1    call   0.018950       0.003344    5.667042\n",
      "2    this   0.004995       0.003508    1.423936\n",
      "3  number   0.001586       0.000841    1.885351\n",
      "Spam Score: -23.31137807686941\n",
      "Non-Spam Score: -29.372730780641646\n"
     ]
    },
    {
     "data": {
      "text/plain": [
       "True"
      ]
     },
     "execution_count": 21,
     "metadata": {},
     "output_type": "execute_result"
    }
   ],
   "source": [
    "predict_test('urgent call this number'.split(), verbose=True)"
   ]
  },
  {
   "cell_type": "code",
   "execution_count": 22,
   "id": "abf04810",
   "metadata": {},
   "outputs": [
    {
     "name": "stdout",
     "output_type": "stream",
     "text": [
      "  word  spam_prob  non_spam_prob     ratio\n",
      "0  how   0.000476       0.003590  0.132513\n",
      "1  are   0.004520       0.005888  0.767607\n",
      "Spam Score: -15.057237452063992\n",
      "Non-Spam Score: -10.908732600845498\n"
     ]
    },
    {
     "data": {
      "text/plain": [
       "False"
      ]
     },
     "execution_count": 22,
     "metadata": {},
     "output_type": "execute_result"
    }
   ],
   "source": [
    "predict_test('Hello how are you?'.split(), verbose=True)"
   ]
  },
  {
   "cell_type": "code",
   "execution_count": 23,
   "id": "a9e21d34",
   "metadata": {},
   "outputs": [
    {
     "name": "stdout",
     "output_type": "stream",
     "text": [
      "           word  spam_prob  non_spam_prob      ratio\n",
      "0             s   0.000555       0.000328   1.690924\n",
      "1           the   0.011180       0.016166   0.691575\n",
      "2            of   0.006105       0.007385   0.826674\n",
      "3           for   0.010466       0.007283   1.437116\n",
      "4         using   0.000159       0.000062   2.576647\n",
      "5        mobile   0.006819       0.000226  30.217037\n",
      "6           eye   0.000079       0.000021   3.864970\n",
      "7           the   0.011180       0.016166   0.691575\n",
      "8           way   0.000079       0.001457   0.054436\n",
      "9           and   0.007374       0.012535   0.588285\n",
      "10          new   0.003885       0.000903   4.304171\n",
      "11           on   0.008325       0.006072   1.371020\n",
      "12            a   0.022598       0.015468   1.460897\n",
      "13         user   0.000476       0.000021  23.189819\n",
      "14           is   0.008643       0.010586   0.816437\n",
      "15            a   0.022598       0.015468   1.460897\n",
      "16         user   0.000476       0.000021  23.189819\n",
      "17           in   0.003964       0.011858   0.334340\n",
      "18        which   0.000555       0.000739   0.751522\n",
      "19            a   0.022598       0.015468   1.460897\n",
      "20         with   0.005947       0.003898   1.525646\n",
      "21  information   0.000396       0.000062   6.441616\n",
      "22          the   0.011180       0.016166   0.691575\n",
      "23           of   0.006105       0.007385   0.826674\n",
      "24           of   0.006105       0.007385   0.826674\n",
      "25         were   0.000238       0.001272   0.187015\n",
      "26           to   0.038059       0.022690   1.677383\n",
      "27         with   0.005947       0.003898   1.525646\n",
      "28           to   0.038059       0.022690   1.677383\n",
      "29        first   0.000396       0.000780   0.508549\n",
      "30           of   0.006105       0.007385   0.826674\n",
      "31         used   0.000079       0.000123   0.644162\n",
      "32          the   0.011180       0.016166   0.691575\n",
      "33          and   0.007374       0.012535   0.588285\n",
      "34          the   0.011180       0.016166   0.691575\n",
      "35         used   0.000079       0.000123   0.644162\n",
      "36           us   0.000396       0.000739   0.536801\n",
      "37          the   0.011180       0.016166   0.691575\n",
      "38           of   0.006105       0.007385   0.826674\n",
      "39           as   0.001903       0.002051   0.927593\n",
      "40          the   0.011180       0.016166   0.691575\n",
      "41        first   0.000396       0.000780   0.508549\n",
      "42         used   0.000079       0.000123   0.644162\n",
      "43           to   0.038059       0.022690   1.677383\n",
      "44           up   0.001427       0.004000   0.356766\n",
      "45           as   0.001903       0.002051   0.927593\n",
      "46            a   0.022598       0.015468   1.460897\n",
      "47          the   0.011180       0.016166   0.691575\n",
      "48        other   0.000317       0.000677   0.468481\n",
      "49         used   0.000079       0.000123   0.644162\n",
      "50         into   0.000476       0.000492   0.966242\n",
      "51           to   0.038059       0.022690   1.677383\n",
      "Spam Score: -312.0821822807825\n",
      "Non-Spam Score: -314.3275392625943\n"
     ]
    },
    {
     "data": {
      "text/plain": [
       "True"
      ]
     },
     "execution_count": 23,
     "metadata": {},
     "output_type": "execute_result"
    }
   ],
   "source": [
    "predict_test('The research paper discusse s the Perpetual benefits of Tangible User Interface(TUI) for collaborative learning using mobile eye trackers. The article investigated the way users memorize, analyze, collaborate, and learn new concepts on a Tangible User Interface (TUI). A tangible user interface (TUI) is a user interface in which a person interacts with digital information through the physical environment. Two groups of twenty-seven pairs of apprentices were made to interact with interactive warehouse simulation to investigate this. The first group of participants used the 3D models, and the second group used 2D paper shelves. This arrangement helped us understand the \"representational effect\" of 3D tangibles as the first group used actual miniature shelves to stack up as a warehouse representation. In contrast, the other group used paper cut into rectangular pieces to represent warehouse shelves.'.split(), verbose=True)"
   ]
  },
  {
   "cell_type": "code",
   "execution_count": 24,
   "id": "0561691d",
   "metadata": {},
   "outputs": [],
   "source": [
    "predictions = test_df.text.apply(lambda t: predict_test(t.split()))"
   ]
  },
  {
   "cell_type": "code",
   "execution_count": 25,
   "id": "7df1d2a7",
   "metadata": {},
   "outputs": [
    {
     "name": "stdout",
     "output_type": "stream",
     "text": [
      "Fraction Spam Correctly Detected: 0.9147982062780269\n"
     ]
    }
   ],
   "source": [
    "frac_spam_messages_correctly_detected = np.sum((predictions == True) & (test_df.spam == True)) / np.sum(test_df.spam == True)\n",
    "print('Fraction Spam Correctly Detected: %s'%frac_spam_messages_correctly_detected)"
   ]
  },
  {
   "cell_type": "code",
   "execution_count": 26,
   "id": "d7b937b8",
   "metadata": {},
   "outputs": [
    {
     "name": "stdout",
     "output_type": "stream",
     "text": [
      "Fraction Valid Messages Sent to Spam: 0.022774327122153208\n"
     ]
    }
   ],
   "source": [
    "frac_valid_sent_to_spam = np.sum((predictions == True) & (test_df.spam == False)) / np.sum(test_df.spam == False)\n",
    "print('Fraction Valid Messages Sent to Spam: %s'%frac_valid_sent_to_spam)"
   ]
  },
  {
   "cell_type": "code",
   "execution_count": null,
   "id": "63278e33",
   "metadata": {},
   "outputs": [],
   "source": []
  },
  {
   "cell_type": "code",
   "execution_count": null,
   "id": "5b951cf5",
   "metadata": {},
   "outputs": [],
   "source": []
  },
  {
   "cell_type": "code",
   "execution_count": null,
   "id": "e97ca3e3",
   "metadata": {},
   "outputs": [],
   "source": []
  }
 ],
 "metadata": {
  "kernelspec": {
   "display_name": "Python 3 (ipykernel)",
   "language": "python",
   "name": "python3"
  },
  "language_info": {
   "codemirror_mode": {
    "name": "ipython",
    "version": 3
   },
   "file_extension": ".py",
   "mimetype": "text/x-python",
   "name": "python",
   "nbconvert_exporter": "python",
   "pygments_lexer": "ipython3",
   "version": "3.9.7"
  }
 },
 "nbformat": 4,
 "nbformat_minor": 5
}
